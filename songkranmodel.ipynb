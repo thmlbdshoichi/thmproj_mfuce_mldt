{
 "metadata": {
  "language_info": {
   "codemirror_mode": {
    "name": "ipython",
    "version": 3
   },
   "file_extension": ".py",
   "mimetype": "text/x-python",
   "name": "python",
   "nbconvert_exporter": "python",
   "pygments_lexer": "ipython3",
   "version": "3.8.6"
  },
  "orig_nbformat": 2,
  "kernelspec": {
   "name": "python386jvsc74a57bd0e404b59586357c814bc0d3940e75d6763c00a48753b225b81f7716971b8e1741",
   "display_name": "Python 3.8.6 64-bit"
  },
  "metadata": {
   "interpreter": {
    "hash": "e404b59586357c814bc0d3940e75d6763c00a48753b225b81f7716971b8e1741"
   }
  }
 },
 "nbformat": 4,
 "nbformat_minor": 2,
 "cells": [
  {
   "source": [
    "# PROJECT : Using Decision Tree to understand Road accident in Songkran Festival\n",
    "\n",
    "### GROUP : \n",
    "#### 1. Arunwat Moonbung        | 6131501066\n",
    "#### 2. Natthida Patlee         | 6131501016\n",
    "#### 3. Nattawadee Philuekruang | 6131501021\n",
    "#### 3. Piya Jairat             | 6131501035\n",
    "#### 4. Wirakan Keawkanya       | 6131501054\n"
   ],
   "cell_type": "markdown",
   "metadata": {}
  },
  {
   "source": [
    "### INCLUDE ALL IMPORTANT LIBRARY INTO PROJECT HERE"
   ],
   "cell_type": "markdown",
   "metadata": {}
  },
  {
   "cell_type": "code",
   "execution_count": 1,
   "metadata": {},
   "outputs": [],
   "source": [
    "import pandas as pd\n",
    "import seaborn as sb\n",
    "import matplotlib.pyplot as plt\n",
    "import numpy as np\n",
    "plt.rcParams['font.family'] = 'tahoma'"
   ]
  },
  {
   "source": [
    "### IMPORT songkran.csv file"
   ],
   "cell_type": "markdown",
   "metadata": {}
  },
  {
   "cell_type": "code",
   "execution_count": 2,
   "metadata": {},
   "outputs": [],
   "source": [
    "songkran_original_dataset = pd.read_csv('songkran.csv',engine='python')"
   ]
  },
  {
   "source": [
    "## Exploratory Data Analysis & Data preprocessing & Feature Engineering"
   ],
   "cell_type": "markdown",
   "metadata": {}
  },
  {
   "source": [
    "## Basic Exploration \n",
    "### Number of Row x Columns, data types and statistic"
   ],
   "cell_type": "markdown",
   "metadata": {}
  },
  {
   "cell_type": "code",
   "execution_count": 3,
   "metadata": {},
   "outputs": [
    {
     "output_type": "display_data",
     "data": {
      "text/plain": "'Number of Row x Columns of Original tcas.xlsx'"
     },
     "metadata": {}
    },
    {
     "output_type": "display_data",
     "data": {
      "text/plain": "(202298, 19)"
     },
     "metadata": {}
    },
    {
     "output_type": "display_data",
     "data": {
      "text/plain": "'Columns and their data types'"
     },
     "metadata": {}
    },
    {
     "output_type": "display_data",
     "data": {
      "text/plain": "Year                 object\nProvinceCode          int64\nProvince             object\nHospitalCode          int64\nHospitalName         object\nDate                  int64\nTime                 object\nSex                  object\nAge                   int64\nCrimeScene           object\nStatus               object\nInjuredCar           object\nDisputantCar         object\nPreventiveMeasure    object\nAlchohol             object\nTransferMethod       object\nRefer-Admit          object\nResults              object\nDateCured             int64\ndtype: object"
     },
     "metadata": {}
    }
   ],
   "source": [
    "#dtypes display maximum 150 columns\n",
    "pd.set_option('display.max_rows', 150)\n",
    "pd.set_option('display.max_columns', 150)\n",
    "display(\"Number of Row x Columns of Original dataset\", songkran_original_dataset.shape)\n",
    "display(\"Columns and their data types\",songkran_original_dataset.dtypes)"
   ]
  },
  {
   "cell_type": "code",
   "execution_count": 4,
   "metadata": {},
   "outputs": [
    {
     "output_type": "display_data",
     "data": {
      "text/plain": "'Statistic of numeric features'"
     },
     "metadata": {}
    },
    {
     "output_type": "display_data",
     "data": {
      "text/plain": "        ProvinceCode   HospitalCode           Date            Age  \\\ncount  202298.000000  202298.000000  202298.000000  202298.000000   \nmean       48.358733   11332.568770      13.699068      27.972229   \nstd        24.091981    1384.988602       1.810722      16.281154   \nmin        10.000000   10660.000000      10.000000       0.000000   \n25%        30.000000   10772.000000      12.000000      16.000000   \n50%        47.000000   11048.000000      13.000000      24.000000   \n75%        67.000000   11330.000000      15.000000      38.000000   \nmax        97.000000   34563.000000      18.000000      99.000000   \n\n           DateCured  \ncount  202298.000000  \nmean        0.296686  \nstd         1.610224  \nmin         0.000000  \n25%         0.000000  \n50%         0.000000  \n75%         0.000000  \nmax        31.000000  ",
      "text/html": "<div>\n<style scoped>\n    .dataframe tbody tr th:only-of-type {\n        vertical-align: middle;\n    }\n\n    .dataframe tbody tr th {\n        vertical-align: top;\n    }\n\n    .dataframe thead th {\n        text-align: right;\n    }\n</style>\n<table border=\"1\" class=\"dataframe\">\n  <thead>\n    <tr style=\"text-align: right;\">\n      <th></th>\n      <th>ProvinceCode</th>\n      <th>HospitalCode</th>\n      <th>Date</th>\n      <th>Age</th>\n      <th>DateCured</th>\n    </tr>\n  </thead>\n  <tbody>\n    <tr>\n      <th>count</th>\n      <td>202298.000000</td>\n      <td>202298.000000</td>\n      <td>202298.000000</td>\n      <td>202298.000000</td>\n      <td>202298.000000</td>\n    </tr>\n    <tr>\n      <th>mean</th>\n      <td>48.358733</td>\n      <td>11332.568770</td>\n      <td>13.699068</td>\n      <td>27.972229</td>\n      <td>0.296686</td>\n    </tr>\n    <tr>\n      <th>std</th>\n      <td>24.091981</td>\n      <td>1384.988602</td>\n      <td>1.810722</td>\n      <td>16.281154</td>\n      <td>1.610224</td>\n    </tr>\n    <tr>\n      <th>min</th>\n      <td>10.000000</td>\n      <td>10660.000000</td>\n      <td>10.000000</td>\n      <td>0.000000</td>\n      <td>0.000000</td>\n    </tr>\n    <tr>\n      <th>25%</th>\n      <td>30.000000</td>\n      <td>10772.000000</td>\n      <td>12.000000</td>\n      <td>16.000000</td>\n      <td>0.000000</td>\n    </tr>\n    <tr>\n      <th>50%</th>\n      <td>47.000000</td>\n      <td>11048.000000</td>\n      <td>13.000000</td>\n      <td>24.000000</td>\n      <td>0.000000</td>\n    </tr>\n    <tr>\n      <th>75%</th>\n      <td>67.000000</td>\n      <td>11330.000000</td>\n      <td>15.000000</td>\n      <td>38.000000</td>\n      <td>0.000000</td>\n    </tr>\n    <tr>\n      <th>max</th>\n      <td>97.000000</td>\n      <td>34563.000000</td>\n      <td>18.000000</td>\n      <td>99.000000</td>\n      <td>31.000000</td>\n    </tr>\n  </tbody>\n</table>\n</div>"
     },
     "metadata": {}
    },
    {
     "output_type": "display_data",
     "data": {
      "text/plain": "'Statistic of category features'"
     },
     "metadata": {}
    },
    {
     "output_type": "display_data",
     "data": {
      "text/plain": "               Year           Province HospitalName            Time     Sex  \\\ncount        202298             202298       202298          200762  202298   \nunique            7                152         1265              24       2   \ntop     สงกรานต์ 51  Nakhon Ratchasima     บางละมุง  17:01-18:00 น.    Male   \nfreq          32328               9076         1143           16997  133065   \n\n         CrimeScene  Status  InjuredCar DisputantCar     PreventiveMeasure  \\\ncount        197029  200538      198949       189082                189895   \nunique            3       4          11           11                     3   \ntop     Countryside   Rider  Motorcycle         None  Not Wearing a helmet   \nfreq         104167  129116      153601       115288                161577   \n\n       Alchohol     TransferMethod Refer-Admit  Results  \ncount    190023             202298      202298   202298  \nunique        2                  9           4        2  \ntop          No  Victim / Relative          No  Injured  \nfreq     120957             127992      155300   199350  ",
      "text/html": "<div>\n<style scoped>\n    .dataframe tbody tr th:only-of-type {\n        vertical-align: middle;\n    }\n\n    .dataframe tbody tr th {\n        vertical-align: top;\n    }\n\n    .dataframe thead th {\n        text-align: right;\n    }\n</style>\n<table border=\"1\" class=\"dataframe\">\n  <thead>\n    <tr style=\"text-align: right;\">\n      <th></th>\n      <th>Year</th>\n      <th>Province</th>\n      <th>HospitalName</th>\n      <th>Time</th>\n      <th>Sex</th>\n      <th>CrimeScene</th>\n      <th>Status</th>\n      <th>InjuredCar</th>\n      <th>DisputantCar</th>\n      <th>PreventiveMeasure</th>\n      <th>Alchohol</th>\n      <th>TransferMethod</th>\n      <th>Refer-Admit</th>\n      <th>Results</th>\n    </tr>\n  </thead>\n  <tbody>\n    <tr>\n      <th>count</th>\n      <td>202298</td>\n      <td>202298</td>\n      <td>202298</td>\n      <td>200762</td>\n      <td>202298</td>\n      <td>197029</td>\n      <td>200538</td>\n      <td>198949</td>\n      <td>189082</td>\n      <td>189895</td>\n      <td>190023</td>\n      <td>202298</td>\n      <td>202298</td>\n      <td>202298</td>\n    </tr>\n    <tr>\n      <th>unique</th>\n      <td>7</td>\n      <td>152</td>\n      <td>1265</td>\n      <td>24</td>\n      <td>2</td>\n      <td>3</td>\n      <td>4</td>\n      <td>11</td>\n      <td>11</td>\n      <td>3</td>\n      <td>2</td>\n      <td>9</td>\n      <td>4</td>\n      <td>2</td>\n    </tr>\n    <tr>\n      <th>top</th>\n      <td>สงกรานต์ 51</td>\n      <td>Nakhon Ratchasima</td>\n      <td>บางละมุง</td>\n      <td>17:01-18:00 น.</td>\n      <td>Male</td>\n      <td>Countryside</td>\n      <td>Rider</td>\n      <td>Motorcycle</td>\n      <td>None</td>\n      <td>Not Wearing a helmet</td>\n      <td>No</td>\n      <td>Victim / Relative</td>\n      <td>No</td>\n      <td>Injured</td>\n    </tr>\n    <tr>\n      <th>freq</th>\n      <td>32328</td>\n      <td>9076</td>\n      <td>1143</td>\n      <td>16997</td>\n      <td>133065</td>\n      <td>104167</td>\n      <td>129116</td>\n      <td>153601</td>\n      <td>115288</td>\n      <td>161577</td>\n      <td>120957</td>\n      <td>127992</td>\n      <td>155300</td>\n      <td>199350</td>\n    </tr>\n  </tbody>\n</table>\n</div>"
     },
     "metadata": {}
    }
   ],
   "source": [
    "display(\"Statistic of numeric features\", songkran_original_dataset.describe())\n",
    "display(\"Statistic of category features\", songkran_original_dataset.describe(include=['object']))"
   ]
  },
  {
   "source": [
    "### Basic Exploration | Observing Missing Value"
   ],
   "cell_type": "markdown",
   "metadata": {}
  },
  {
   "cell_type": "code",
   "execution_count": 5,
   "metadata": {},
   "outputs": [
    {
     "output_type": "display_data",
     "data": {
      "text/plain": "'Missing Value in each Columns'"
     },
     "metadata": {}
    },
    {
     "output_type": "display_data",
     "data": {
      "text/plain": "Year                 0.000000\nProvinceCode         0.000000\nProvince             0.000000\nHospitalCode         0.000000\nHospitalName         0.000000\nDate                 0.000000\nTime                 0.759276\nSex                  0.000000\nAge                  0.000000\nCrimeScene           2.604573\nStatus               0.870004\nInjuredCar           1.655479\nDisputantCar         6.532937\nPreventiveMeasure    6.131054\nAlchohol             6.067781\nTransferMethod       0.000000\nRefer-Admit          0.000000\nResults              0.000000\nDateCured            0.000000\ndtype: float64"
     },
     "metadata": {}
    }
   ],
   "source": [
    "display('Missing Value in each Columns')\n",
    "display(songkran_original_dataset.isnull().sum(axis=0)/len(songkran_original_dataset)*100)"
   ]
  },
  {
   "cell_type": "code",
   "execution_count": 6,
   "metadata": {},
   "outputs": [
    {
     "output_type": "display_data",
     "data": {
      "text/plain": "'Missing Value in each Rows'"
     },
     "metadata": {}
    },
    {
     "output_type": "display_data",
     "data": {
      "text/plain": "0         10.526316\n1          0.000000\n2         10.526316\n3          5.263158\n4          5.263158\n            ...    \n202293     0.000000\n202294     0.000000\n202295     5.263158\n202296     0.000000\n202297     0.000000\nLength: 202298, dtype: float64"
     },
     "metadata": {}
    }
   ],
   "source": [
    "display('Missing Value in each Rows')\n",
    "display(songkran_original_dataset.isnull().sum(axis=1)/len(songkran_original_dataset.columns)*100)"
   ]
  },
  {
   "source": [
    "## Data cleansing before Univariate Analysis\n",
    "### Remove Columns contain too many missing values (>= 50%)\n",
    "### There is no unusable features in this dataset since all columns has missing value less than 50% or even less than 10%"
   ],
   "cell_type": "markdown",
   "metadata": {}
  },
  {
   "cell_type": "code",
   "execution_count": 12,
   "metadata": {},
   "outputs": [
    {
     "output_type": "display_data",
     "data": {
      "text/plain": "'Columns which have missing value more than 50%'"
     },
     "metadata": {}
    },
    {
     "output_type": "display_data",
     "data": {
      "text/plain": "Index([], dtype='object')"
     },
     "metadata": {}
    },
    {
     "output_type": "display_data",
     "data": {
      "text/plain": "'Columns which have missing value more than 25%'"
     },
     "metadata": {}
    },
    {
     "output_type": "display_data",
     "data": {
      "text/plain": "Index([], dtype='object')"
     },
     "metadata": {}
    },
    {
     "output_type": "display_data",
     "data": {
      "text/plain": "'Columns which have missing value more than 10%'"
     },
     "metadata": {}
    },
    {
     "output_type": "display_data",
     "data": {
      "text/plain": "Index([], dtype='object')"
     },
     "metadata": {}
    }
   ],
   "source": [
    "#Display and Check which columns have missing value more than 50%\n",
    "display('Columns which have missing value more than 50%',songkran_original_dataset.columns[songkran_original_dataset.isnull().sum()/len(songkran_original_dataset)*100 >= 50])\n",
    "display('Columns which have missing value more than 25%',songkran_original_dataset.columns[songkran_original_dataset.isnull().sum()/len(songkran_original_dataset)*100 >= 25])\n",
    "display('Columns which have missing value more than 10%',songkran_original_dataset.columns[songkran_original_dataset.isnull().sum()/len(songkran_original_dataset)*100 >= 10])"
   ]
  },
  {
   "source": [
    "## Univariate Analysis\n",
    "### Categorical features"
   ],
   "cell_type": "markdown",
   "metadata": {}
  },
  {
   "cell_type": "code",
   "execution_count": null,
   "metadata": {},
   "outputs": [],
   "source": [
    "#TEST"
   ]
  },
  {
   "source": [
    "### Numerical features"
   ],
   "cell_type": "markdown",
   "metadata": {}
  },
  {
   "cell_type": "code",
   "execution_count": null,
   "metadata": {},
   "outputs": [],
   "source": [
    "#TEST"
   ]
  },
  {
   "source": [
    "## Data cleansing\n",
    "### Remove Scope and Duplicate meaning and Irrevant of Columns and Row"
   ],
   "cell_type": "markdown",
   "metadata": {}
  },
  {
   "source": [
    "## Bivariate Analysis?"
   ],
   "cell_type": "markdown",
   "metadata": {}
  },
  {
   "source": [
    "## Feature Engineering"
   ],
   "cell_type": "markdown",
   "metadata": {}
  },
  {
   "source": [
    "## Decision Tree, Feature Importance\n",
    "#### USED TO FIND IMPORTANT Feature which can be used to improve accuracy of decision tree!"
   ],
   "cell_type": "markdown",
   "metadata": {}
  },
  {
   "cell_type": "code",
   "execution_count": null,
   "metadata": {},
   "outputs": [],
   "source": [
    "# In progress of Studying..."
   ]
  },
  {
   "source": [
    "## Last-time Data Cleaning"
   ],
   "cell_type": "markdown",
   "metadata": {}
  },
  {
   "source": [
    "## Model Development"
   ],
   "cell_type": "markdown",
   "metadata": {}
  },
  {
   "source": [
    "## Model Analysis"
   ],
   "cell_type": "markdown",
   "metadata": {}
  }
 ]
}