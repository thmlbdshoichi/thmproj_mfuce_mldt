{
 "metadata": {
  "language_info": {
   "codemirror_mode": {
    "name": "ipython",
    "version": 3
   },
   "file_extension": ".py",
   "mimetype": "text/x-python",
   "name": "python",
   "nbconvert_exporter": "python",
   "pygments_lexer": "ipython3",
   "version": "3.8.6"
  },
  "orig_nbformat": 2,
  "kernelspec": {
   "name": "python3",
   "display_name": "Python 3.8.6 64-bit",
   "metadata": {
    "interpreter": {
     "hash": "e404b59586357c814bc0d3940e75d6763c00a48753b225b81f7716971b8e1741"
    }
   }
  }
 },
 "nbformat": 4,
 "nbformat_minor": 2,
 "cells": [
  {
   "source": [
    "# PROJECT : Using Decision Tree to understand Road accident in Songkran Festival\n",
    "\n",
    "### GROUP : \n",
    "#### 1. Arunwat Moonbung        | 6131501066\n",
    "#### 2. Natthida Patlee         | 6131501016\n",
    "#### 3. Nattawadee Philuekruang | 6131501021\n",
    "#### 3. Piya Jairat             | 6131501035\n",
    "#### 4. Wirakan Keawkanya       | 6131501054\n"
   ],
   "cell_type": "markdown",
   "metadata": {}
  },
  {
   "source": [
    "### INCLUDE ALL IMPORTANT LIBRARY INTO PROJECT HERE"
   ],
   "cell_type": "markdown",
   "metadata": {}
  },
  {
   "cell_type": "code",
   "execution_count": 1,
   "metadata": {},
   "outputs": [],
   "source": [
    "import pandas as pd\n",
    "import seaborn as sb\n",
    "import matplotlib.pyplot as plt\n",
    "import numpy as np\n",
    "plt.rcParams['font.family'] = 'tahoma'"
   ]
  },
  {
   "source": [
    "### IMPORT songkran.xlsx file"
   ],
   "cell_type": "markdown",
   "metadata": {}
  },
  {
   "cell_type": "code",
   "execution_count": 6,
   "metadata": {},
   "outputs": [],
   "source": [
    "songkran_original_dataset = pd.read_csv('songkran.csv',encoding='unicode_escape')"
   ]
  },
  {
   "source": [
    "## Exploratory Data Analysis & Data preprocessing & Feature Engineering"
   ],
   "cell_type": "markdown",
   "metadata": {}
  },
  {
   "source": [
    "## Basic Exploration \n",
    "### Number of Row x Columns, data types and statistic"
   ],
   "cell_type": "markdown",
   "metadata": {}
  },
  {
   "cell_type": "code",
   "execution_count": 7,
   "metadata": {},
   "outputs": [
    {
     "output_type": "display_data",
     "data": {
      "text/plain": "'Number of Row x Columns of Original tcas.xlsx'"
     },
     "metadata": {}
    },
    {
     "output_type": "display_data",
     "data": {
      "text/plain": "(202298, 19)"
     },
     "metadata": {}
    },
    {
     "output_type": "display_data",
     "data": {
      "text/plain": "'79 Columns and their data types'"
     },
     "metadata": {}
    },
    {
     "output_type": "display_data",
     "data": {
      "text/plain": "Year                 object\nProvinceCode          int64\nProvince             object\nHospitalCode          int64\nHospitalName         object\nDate                  int64\nTime                 object\nSex                  object\nAge                   int64\nCrimeScene           object\nStatus               object\nInjuredCar           object\nDisputantCar         object\nPreventiveMeasure    object\nAlchohol             object\nTransferMethod       object\nRefer-Admit          object\nResults              object\nDateCured             int64\ndtype: object"
     },
     "metadata": {}
    }
   ],
   "source": [
    "#dtypes display maximum 150 columns\n",
    "pd.set_option('display.max_rows', 150)\n",
    "pd.set_option('display.max_columns', 150)\n",
    "display(\"Number of Row x Columns of Original tcas.xlsx\", songkran_original_dataset.shape)\n",
    "display(\"79 Columns and their data types\",songkran_original_dataset.dtypes)"
   ]
  },
  {
   "cell_type": "code",
   "execution_count": null,
   "metadata": {},
   "outputs": [],
   "source": []
  }
 ]
}